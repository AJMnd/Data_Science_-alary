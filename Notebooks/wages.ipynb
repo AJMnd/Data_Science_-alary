{
 "cells": [
  {
   "cell_type": "code",
   "execution_count": 1,
   "id": "b0f834a3",
   "metadata": {},
   "outputs": [],
   "source": [
    "import pandas as pd\n",
    "import numpy as np"
   ]
  },
  {
   "cell_type": "code",
   "execution_count": 2,
   "id": "dc64e846",
   "metadata": {},
   "outputs": [
    {
     "ename": "FileNotFoundError",
     "evalue": "[Errno 2] No such file or directory: 'wages/national_M2021_dl.csv'",
     "output_type": "error",
     "traceback": [
      "\u001b[1;31m---------------------------------------------------------------------------\u001b[0m",
      "\u001b[1;31mFileNotFoundError\u001b[0m                         Traceback (most recent call last)",
      "\u001b[1;32m~\\AppData\\Local\\Temp\\ipykernel_19260\\3755928193.py\u001b[0m in \u001b[0;36m<module>\u001b[1;34m\u001b[0m\n\u001b[0;32m      1\u001b[0m \u001b[0mfile_path\u001b[0m \u001b[1;33m=\u001b[0m \u001b[1;34m\"wages/national_M2021_dl.csv\"\u001b[0m\u001b[1;33m\u001b[0m\u001b[1;33m\u001b[0m\u001b[0m\n\u001b[1;32m----> 2\u001b[1;33m \u001b[0mwages_df\u001b[0m \u001b[1;33m=\u001b[0m \u001b[0mpd\u001b[0m\u001b[1;33m.\u001b[0m\u001b[0mread_csv\u001b[0m\u001b[1;33m(\u001b[0m\u001b[0mfile_path\u001b[0m\u001b[1;33m)\u001b[0m\u001b[1;33m\u001b[0m\u001b[1;33m\u001b[0m\u001b[0m\n\u001b[0m\u001b[0;32m      3\u001b[0m \u001b[0mwages_df\u001b[0m\u001b[1;33m\u001b[0m\u001b[1;33m\u001b[0m\u001b[0m\n",
      "\u001b[1;32m~\\anaconda3\\envs\\mlenv\\lib\\site-packages\\pandas\\util\\_decorators.py\u001b[0m in \u001b[0;36mwrapper\u001b[1;34m(*args, **kwargs)\u001b[0m\n\u001b[0;32m    309\u001b[0m                     \u001b[0mstacklevel\u001b[0m\u001b[1;33m=\u001b[0m\u001b[0mstacklevel\u001b[0m\u001b[1;33m,\u001b[0m\u001b[1;33m\u001b[0m\u001b[1;33m\u001b[0m\u001b[0m\n\u001b[0;32m    310\u001b[0m                 )\n\u001b[1;32m--> 311\u001b[1;33m             \u001b[1;32mreturn\u001b[0m \u001b[0mfunc\u001b[0m\u001b[1;33m(\u001b[0m\u001b[1;33m*\u001b[0m\u001b[0margs\u001b[0m\u001b[1;33m,\u001b[0m \u001b[1;33m**\u001b[0m\u001b[0mkwargs\u001b[0m\u001b[1;33m)\u001b[0m\u001b[1;33m\u001b[0m\u001b[1;33m\u001b[0m\u001b[0m\n\u001b[0m\u001b[0;32m    312\u001b[0m \u001b[1;33m\u001b[0m\u001b[0m\n\u001b[0;32m    313\u001b[0m         \u001b[1;32mreturn\u001b[0m \u001b[0mwrapper\u001b[0m\u001b[1;33m\u001b[0m\u001b[1;33m\u001b[0m\u001b[0m\n",
      "\u001b[1;32m~\\anaconda3\\envs\\mlenv\\lib\\site-packages\\pandas\\io\\parsers\\readers.py\u001b[0m in \u001b[0;36mread_csv\u001b[1;34m(filepath_or_buffer, sep, delimiter, header, names, index_col, usecols, squeeze, prefix, mangle_dupe_cols, dtype, engine, converters, true_values, false_values, skipinitialspace, skiprows, skipfooter, nrows, na_values, keep_default_na, na_filter, verbose, skip_blank_lines, parse_dates, infer_datetime_format, keep_date_col, date_parser, dayfirst, cache_dates, iterator, chunksize, compression, thousands, decimal, lineterminator, quotechar, quoting, doublequote, escapechar, comment, encoding, encoding_errors, dialect, error_bad_lines, warn_bad_lines, on_bad_lines, delim_whitespace, low_memory, memory_map, float_precision, storage_options)\u001b[0m\n\u001b[0;32m    584\u001b[0m     \u001b[0mkwds\u001b[0m\u001b[1;33m.\u001b[0m\u001b[0mupdate\u001b[0m\u001b[1;33m(\u001b[0m\u001b[0mkwds_defaults\u001b[0m\u001b[1;33m)\u001b[0m\u001b[1;33m\u001b[0m\u001b[1;33m\u001b[0m\u001b[0m\n\u001b[0;32m    585\u001b[0m \u001b[1;33m\u001b[0m\u001b[0m\n\u001b[1;32m--> 586\u001b[1;33m     \u001b[1;32mreturn\u001b[0m \u001b[0m_read\u001b[0m\u001b[1;33m(\u001b[0m\u001b[0mfilepath_or_buffer\u001b[0m\u001b[1;33m,\u001b[0m \u001b[0mkwds\u001b[0m\u001b[1;33m)\u001b[0m\u001b[1;33m\u001b[0m\u001b[1;33m\u001b[0m\u001b[0m\n\u001b[0m\u001b[0;32m    587\u001b[0m \u001b[1;33m\u001b[0m\u001b[0m\n\u001b[0;32m    588\u001b[0m \u001b[1;33m\u001b[0m\u001b[0m\n",
      "\u001b[1;32m~\\anaconda3\\envs\\mlenv\\lib\\site-packages\\pandas\\io\\parsers\\readers.py\u001b[0m in \u001b[0;36m_read\u001b[1;34m(filepath_or_buffer, kwds)\u001b[0m\n\u001b[0;32m    480\u001b[0m \u001b[1;33m\u001b[0m\u001b[0m\n\u001b[0;32m    481\u001b[0m     \u001b[1;31m# Create the parser.\u001b[0m\u001b[1;33m\u001b[0m\u001b[1;33m\u001b[0m\u001b[1;33m\u001b[0m\u001b[0m\n\u001b[1;32m--> 482\u001b[1;33m     \u001b[0mparser\u001b[0m \u001b[1;33m=\u001b[0m \u001b[0mTextFileReader\u001b[0m\u001b[1;33m(\u001b[0m\u001b[0mfilepath_or_buffer\u001b[0m\u001b[1;33m,\u001b[0m \u001b[1;33m**\u001b[0m\u001b[0mkwds\u001b[0m\u001b[1;33m)\u001b[0m\u001b[1;33m\u001b[0m\u001b[1;33m\u001b[0m\u001b[0m\n\u001b[0m\u001b[0;32m    483\u001b[0m \u001b[1;33m\u001b[0m\u001b[0m\n\u001b[0;32m    484\u001b[0m     \u001b[1;32mif\u001b[0m \u001b[0mchunksize\u001b[0m \u001b[1;32mor\u001b[0m \u001b[0miterator\u001b[0m\u001b[1;33m:\u001b[0m\u001b[1;33m\u001b[0m\u001b[1;33m\u001b[0m\u001b[0m\n",
      "\u001b[1;32m~\\anaconda3\\envs\\mlenv\\lib\\site-packages\\pandas\\io\\parsers\\readers.py\u001b[0m in \u001b[0;36m__init__\u001b[1;34m(self, f, engine, **kwds)\u001b[0m\n\u001b[0;32m    809\u001b[0m             \u001b[0mself\u001b[0m\u001b[1;33m.\u001b[0m\u001b[0moptions\u001b[0m\u001b[1;33m[\u001b[0m\u001b[1;34m\"has_index_names\"\u001b[0m\u001b[1;33m]\u001b[0m \u001b[1;33m=\u001b[0m \u001b[0mkwds\u001b[0m\u001b[1;33m[\u001b[0m\u001b[1;34m\"has_index_names\"\u001b[0m\u001b[1;33m]\u001b[0m\u001b[1;33m\u001b[0m\u001b[1;33m\u001b[0m\u001b[0m\n\u001b[0;32m    810\u001b[0m \u001b[1;33m\u001b[0m\u001b[0m\n\u001b[1;32m--> 811\u001b[1;33m         \u001b[0mself\u001b[0m\u001b[1;33m.\u001b[0m\u001b[0m_engine\u001b[0m \u001b[1;33m=\u001b[0m \u001b[0mself\u001b[0m\u001b[1;33m.\u001b[0m\u001b[0m_make_engine\u001b[0m\u001b[1;33m(\u001b[0m\u001b[0mself\u001b[0m\u001b[1;33m.\u001b[0m\u001b[0mengine\u001b[0m\u001b[1;33m)\u001b[0m\u001b[1;33m\u001b[0m\u001b[1;33m\u001b[0m\u001b[0m\n\u001b[0m\u001b[0;32m    812\u001b[0m \u001b[1;33m\u001b[0m\u001b[0m\n\u001b[0;32m    813\u001b[0m     \u001b[1;32mdef\u001b[0m \u001b[0mclose\u001b[0m\u001b[1;33m(\u001b[0m\u001b[0mself\u001b[0m\u001b[1;33m)\u001b[0m\u001b[1;33m:\u001b[0m\u001b[1;33m\u001b[0m\u001b[1;33m\u001b[0m\u001b[0m\n",
      "\u001b[1;32m~\\anaconda3\\envs\\mlenv\\lib\\site-packages\\pandas\\io\\parsers\\readers.py\u001b[0m in \u001b[0;36m_make_engine\u001b[1;34m(self, engine)\u001b[0m\n\u001b[0;32m   1038\u001b[0m             )\n\u001b[0;32m   1039\u001b[0m         \u001b[1;31m# error: Too many arguments for \"ParserBase\"\u001b[0m\u001b[1;33m\u001b[0m\u001b[1;33m\u001b[0m\u001b[1;33m\u001b[0m\u001b[0m\n\u001b[1;32m-> 1040\u001b[1;33m         \u001b[1;32mreturn\u001b[0m \u001b[0mmapping\u001b[0m\u001b[1;33m[\u001b[0m\u001b[0mengine\u001b[0m\u001b[1;33m]\u001b[0m\u001b[1;33m(\u001b[0m\u001b[0mself\u001b[0m\u001b[1;33m.\u001b[0m\u001b[0mf\u001b[0m\u001b[1;33m,\u001b[0m \u001b[1;33m**\u001b[0m\u001b[0mself\u001b[0m\u001b[1;33m.\u001b[0m\u001b[0moptions\u001b[0m\u001b[1;33m)\u001b[0m  \u001b[1;31m# type: ignore[call-arg]\u001b[0m\u001b[1;33m\u001b[0m\u001b[1;33m\u001b[0m\u001b[0m\n\u001b[0m\u001b[0;32m   1041\u001b[0m \u001b[1;33m\u001b[0m\u001b[0m\n\u001b[0;32m   1042\u001b[0m     \u001b[1;32mdef\u001b[0m \u001b[0m_failover_to_python\u001b[0m\u001b[1;33m(\u001b[0m\u001b[0mself\u001b[0m\u001b[1;33m)\u001b[0m\u001b[1;33m:\u001b[0m\u001b[1;33m\u001b[0m\u001b[1;33m\u001b[0m\u001b[0m\n",
      "\u001b[1;32m~\\anaconda3\\envs\\mlenv\\lib\\site-packages\\pandas\\io\\parsers\\c_parser_wrapper.py\u001b[0m in \u001b[0;36m__init__\u001b[1;34m(self, src, **kwds)\u001b[0m\n\u001b[0;32m     49\u001b[0m \u001b[1;33m\u001b[0m\u001b[0m\n\u001b[0;32m     50\u001b[0m         \u001b[1;31m# open handles\u001b[0m\u001b[1;33m\u001b[0m\u001b[1;33m\u001b[0m\u001b[1;33m\u001b[0m\u001b[0m\n\u001b[1;32m---> 51\u001b[1;33m         \u001b[0mself\u001b[0m\u001b[1;33m.\u001b[0m\u001b[0m_open_handles\u001b[0m\u001b[1;33m(\u001b[0m\u001b[0msrc\u001b[0m\u001b[1;33m,\u001b[0m \u001b[0mkwds\u001b[0m\u001b[1;33m)\u001b[0m\u001b[1;33m\u001b[0m\u001b[1;33m\u001b[0m\u001b[0m\n\u001b[0m\u001b[0;32m     52\u001b[0m         \u001b[1;32massert\u001b[0m \u001b[0mself\u001b[0m\u001b[1;33m.\u001b[0m\u001b[0mhandles\u001b[0m \u001b[1;32mis\u001b[0m \u001b[1;32mnot\u001b[0m \u001b[1;32mNone\u001b[0m\u001b[1;33m\u001b[0m\u001b[1;33m\u001b[0m\u001b[0m\n\u001b[0;32m     53\u001b[0m \u001b[1;33m\u001b[0m\u001b[0m\n",
      "\u001b[1;32m~\\anaconda3\\envs\\mlenv\\lib\\site-packages\\pandas\\io\\parsers\\base_parser.py\u001b[0m in \u001b[0;36m_open_handles\u001b[1;34m(self, src, kwds)\u001b[0m\n\u001b[0;32m    227\u001b[0m             \u001b[0mmemory_map\u001b[0m\u001b[1;33m=\u001b[0m\u001b[0mkwds\u001b[0m\u001b[1;33m.\u001b[0m\u001b[0mget\u001b[0m\u001b[1;33m(\u001b[0m\u001b[1;34m\"memory_map\"\u001b[0m\u001b[1;33m,\u001b[0m \u001b[1;32mFalse\u001b[0m\u001b[1;33m)\u001b[0m\u001b[1;33m,\u001b[0m\u001b[1;33m\u001b[0m\u001b[1;33m\u001b[0m\u001b[0m\n\u001b[0;32m    228\u001b[0m             \u001b[0mstorage_options\u001b[0m\u001b[1;33m=\u001b[0m\u001b[0mkwds\u001b[0m\u001b[1;33m.\u001b[0m\u001b[0mget\u001b[0m\u001b[1;33m(\u001b[0m\u001b[1;34m\"storage_options\"\u001b[0m\u001b[1;33m,\u001b[0m \u001b[1;32mNone\u001b[0m\u001b[1;33m)\u001b[0m\u001b[1;33m,\u001b[0m\u001b[1;33m\u001b[0m\u001b[1;33m\u001b[0m\u001b[0m\n\u001b[1;32m--> 229\u001b[1;33m             \u001b[0merrors\u001b[0m\u001b[1;33m=\u001b[0m\u001b[0mkwds\u001b[0m\u001b[1;33m.\u001b[0m\u001b[0mget\u001b[0m\u001b[1;33m(\u001b[0m\u001b[1;34m\"encoding_errors\"\u001b[0m\u001b[1;33m,\u001b[0m \u001b[1;34m\"strict\"\u001b[0m\u001b[1;33m)\u001b[0m\u001b[1;33m,\u001b[0m\u001b[1;33m\u001b[0m\u001b[1;33m\u001b[0m\u001b[0m\n\u001b[0m\u001b[0;32m    230\u001b[0m         )\n\u001b[0;32m    231\u001b[0m \u001b[1;33m\u001b[0m\u001b[0m\n",
      "\u001b[1;32m~\\anaconda3\\envs\\mlenv\\lib\\site-packages\\pandas\\io\\common.py\u001b[0m in \u001b[0;36mget_handle\u001b[1;34m(path_or_buf, mode, encoding, compression, memory_map, is_text, errors, storage_options)\u001b[0m\n\u001b[0;32m    705\u001b[0m                 \u001b[0mencoding\u001b[0m\u001b[1;33m=\u001b[0m\u001b[0mioargs\u001b[0m\u001b[1;33m.\u001b[0m\u001b[0mencoding\u001b[0m\u001b[1;33m,\u001b[0m\u001b[1;33m\u001b[0m\u001b[1;33m\u001b[0m\u001b[0m\n\u001b[0;32m    706\u001b[0m                 \u001b[0merrors\u001b[0m\u001b[1;33m=\u001b[0m\u001b[0merrors\u001b[0m\u001b[1;33m,\u001b[0m\u001b[1;33m\u001b[0m\u001b[1;33m\u001b[0m\u001b[0m\n\u001b[1;32m--> 707\u001b[1;33m                 \u001b[0mnewline\u001b[0m\u001b[1;33m=\u001b[0m\u001b[1;34m\"\"\u001b[0m\u001b[1;33m,\u001b[0m\u001b[1;33m\u001b[0m\u001b[1;33m\u001b[0m\u001b[0m\n\u001b[0m\u001b[0;32m    708\u001b[0m             )\n\u001b[0;32m    709\u001b[0m         \u001b[1;32melse\u001b[0m\u001b[1;33m:\u001b[0m\u001b[1;33m\u001b[0m\u001b[1;33m\u001b[0m\u001b[0m\n",
      "\u001b[1;31mFileNotFoundError\u001b[0m: [Errno 2] No such file or directory: 'wages/national_M2021_dl.csv'"
     ]
    }
   ],
   "source": [
    "file_path = \"s/national_M2021_dl.csv\"\n",
    "wages_df = pd.read_csv(file_path)\n",
    "wages_df"
   ]
  },
  {
   "cell_type": "code",
   "execution_count": null,
   "id": "4c977de7",
   "metadata": {},
   "outputs": [],
   "source": [
    "print(wages_df[\"OCC_TITLE\"].count)"
   ]
  },
  {
   "cell_type": "code",
   "execution_count": null,
   "id": "174d8503",
   "metadata": {},
   "outputs": [],
   "source": [
    "wages_df.dtypes"
   ]
  },
  {
   "cell_type": "code",
   "execution_count": null,
   "id": "2c871ce0",
   "metadata": {},
   "outputs": [],
   "source": [
    "print(wages_df[\"OCC_TITLE\"].head())"
   ]
  },
  {
   "cell_type": "code",
   "execution_count": null,
   "id": "4a251669",
   "metadata": {},
   "outputs": [],
   "source": [
    "print(wages_df[\"OCC_TITLE\"].tail())"
   ]
  },
  {
   "cell_type": "code",
   "execution_count": null,
   "id": "9a3df8f1",
   "metadata": {},
   "outputs": [],
   "source": [
    "# Cleaning DataFrame by dropping unnecessary columns df.drop(columns=['B', 'C'], axis=1) axis=1 drops the whole column Stackoverflow\n",
    "\n",
    "wages_df = wages_df.drop(columns=['AREA', 'AREA_TITLE', 'AREA_TYPE', 'PRIM_STATE', 'NAICS', 'NAICS_TITLE', 'I_GROUP', 'OWN_CODE', 'ANNUAL', 'HOURLY'], axis=1)\n"
   ]
  },
  {
   "cell_type": "code",
   "execution_count": null,
   "id": "f8137901",
   "metadata": {
    "scrolled": true
   },
   "outputs": [],
   "source": [
    "# Cleaning columns\n",
    "wages_df"
   ]
  },
  {
   "cell_type": "code",
   "execution_count": null,
   "id": "5dc5d4ea",
   "metadata": {},
   "outputs": [],
   "source": [
    "wages_df = wages_df.drop(columns=['OCC_CODE', 'O_GROUP', 'JOBS_1000', 'LOC_QUOTIENT', 'PCT_TOTAL', 'PCT_RPT'], axis=1)\n"
   ]
  },
  {
   "cell_type": "code",
   "execution_count": null,
   "id": "f53f5055",
   "metadata": {
    "scrolled": true
   },
   "outputs": [],
   "source": [
    "wages_df\n",
    "# Do we need EMP_PRSE?"
   ]
  },
  {
   "cell_type": "code",
   "execution_count": null,
   "id": "3f62a10b",
   "metadata": {},
   "outputs": [],
   "source": [
    "wages_df[\"OCC_TITLE\"].unique()"
   ]
  },
  {
   "cell_type": "code",
   "execution_count": null,
   "id": "615a4409",
   "metadata": {},
   "outputs": [],
   "source": [
    "wages_df = wages_df.drop(columns=['EMP_PRSE', 'MEAN_PRSE', 'H_PCT10', 'H_PCT25', 'H_PCT75', 'H_PCT90', 'A_PCT10', 'A_PCT25', 'A_PCT75', 'A_PCT90'], axis=1)\n"
   ]
  },
  {
   "cell_type": "code",
   "execution_count": null,
   "id": "52519f35",
   "metadata": {},
   "outputs": [],
   "source": [
    "wages_df.head()"
   ]
  },
  {
   "cell_type": "code",
   "execution_count": null,
   "id": "59e15664",
   "metadata": {},
   "outputs": [],
   "source": [
    "wages_df.dtypes"
   ]
  },
  {
   "cell_type": "code",
   "execution_count": null,
   "id": "ecd9942a",
   "metadata": {},
   "outputs": [],
   "source": [
    "wages_df.info()"
   ]
  },
  {
   "cell_type": "code",
   "execution_count": null,
   "id": "156bc4b1",
   "metadata": {},
   "outputs": [],
   "source": [
    "wages_df.head()\n"
   ]
  },
  {
   "cell_type": "code",
   "execution_count": null,
   "id": "8b3348ff",
   "metadata": {},
   "outputs": [],
   "source": [
    "# Getting rid of duplicates, Pandas documentation https://pandas.pydata.org/docs/reference/api/pandas.DataFrame.drop_duplicates.html\n",
    "\n",
    "cleanwages_df = wages_df.drop_duplicates()"
   ]
  },
  {
   "cell_type": "code",
   "execution_count": null,
   "id": "c06e9e34",
   "metadata": {},
   "outputs": [],
   "source": [
    "# Resetting index after dropping duplicates. https://stackoverflow.com/questions/28885073/reindexing-after-pandas-drop-duplicates\n",
    "cleanwages_df = cleanwages_df.reset_index(drop=True)"
   ]
  },
  {
   "cell_type": "code",
   "execution_count": null,
   "id": "559e7866",
   "metadata": {},
   "outputs": [],
   "source": [
    "# checking the index\n",
    "cleanwages_df.head()"
   ]
  },
  {
   "cell_type": "code",
   "execution_count": null,
   "id": "6bbc2d84",
   "metadata": {},
   "outputs": [],
   "source": [
    "cleanwages_df = cleanwages_df.dropna(axis=0, how='any')\n",
    "cleanwages_df.head()"
   ]
  },
  {
   "cell_type": "code",
   "execution_count": null,
   "id": "d6bf4204",
   "metadata": {},
   "outputs": [],
   "source": [
    "for col in cleanwages_df.columns:\n",
    "    print(col)"
   ]
  },
  {
   "cell_type": "code",
   "execution_count": null,
   "id": "68a2015b",
   "metadata": {
    "scrolled": true
   },
   "outputs": [],
   "source": [
    "# Rename the headers\n",
    "clean_df = cleanwages_df.rename(columns={\"OCC_TITLE\": \"Occupation\",\n",
    "\"TOT_EMP\": \"Total Employees\",\n",
    "\"H_MEAN\": \"Hourly Mean\",\n",
    "\"A_MEAN\": \"Annual Mean\",\n",
    "\"H_MEDIAN\": \"Hourly Median\",\n",
    "\"A_MEDIAN\": \"Annual Median\",})\n",
    "\n",
    "clean_df.head()"
   ]
  },
  {
   "cell_type": "code",
   "execution_count": null,
   "id": "9fdcfcc1",
   "metadata": {},
   "outputs": [],
   "source": [
    "# Dropping row with special value (*)\n",
    "cross_industry_df = clean_df.drop(5)"
   ]
  },
  {
   "cell_type": "code",
   "execution_count": null,
   "id": "f273993e",
   "metadata": {},
   "outputs": [],
   "source": [
    "# Resetting the index after dropping rows.\n",
    "cross_industry_df = cross_industry_df.reset_index(drop=True)\n"
   ]
  },
  {
   "cell_type": "code",
   "execution_count": null,
   "id": "6984284f",
   "metadata": {
    "scrolled": true
   },
   "outputs": [],
   "source": [
    "cross_industry_df.head()"
   ]
  },
  {
   "cell_type": "code",
   "execution_count": null,
   "id": "9e7b6fbf",
   "metadata": {},
   "outputs": [],
   "source": [
    "cross_industry_df.loc[cross_industry_df[\"Hourly Mean\"].ne('*'), :]"
   ]
  },
  {
   "cell_type": "code",
   "execution_count": null,
   "id": "5858f362",
   "metadata": {},
   "outputs": [],
   "source": [
    "cross_industry_df.loc[cross_industry_df[\"Hourly Median\"].ne('*'), :]"
   ]
  },
  {
   "cell_type": "code",
   "execution_count": null,
   "id": "ba7cb625",
   "metadata": {},
   "outputs": [],
   "source": [
    "# Removing * is DataFrame\n",
    "cross_industry_df = cross_industry_df.loc[cross_industry_df.ne('*').any(axis=1), :]"
   ]
  },
  {
   "cell_type": "code",
   "execution_count": null,
   "id": "ce7204f1",
   "metadata": {},
   "outputs": [],
   "source": [
    "cross_industry_df = cross_industry_df.loc[cross_industry_df.ne('#').any(axis=1), :]"
   ]
  },
  {
   "cell_type": "code",
   "execution_count": null,
   "id": "64d6a075",
   "metadata": {},
   "outputs": [],
   "source": [
    "# checking for * in DataFrame\n",
    "cross_industry_df.ne('*').any(axis=1)"
   ]
  },
  {
   "cell_type": "code",
   "execution_count": null,
   "id": "ed2f87e7",
   "metadata": {},
   "outputs": [],
   "source": []
  },
  {
   "cell_type": "code",
   "execution_count": null,
   "id": "747333e0",
   "metadata": {
    "scrolled": true
   },
   "outputs": [],
   "source": [
    "cross_industry_df = (cross_industry_df\n",
    " .replace('#', np.nan)\n",
    " .replace('*', np.nan)\n",
    " .dropna()\n",
    ")\n",
    "\n",
    "cross_industry_df.head()"
   ]
  },
  {
   "cell_type": "code",
   "execution_count": null,
   "id": "26c52cbb",
   "metadata": {},
   "outputs": [],
   "source": []
  },
  {
   "cell_type": "code",
   "execution_count": null,
   "id": "c0e784b1",
   "metadata": {},
   "outputs": [],
   "source": []
  },
  {
   "cell_type": "code",
   "execution_count": null,
   "id": "85e355b9",
   "metadata": {},
   "outputs": [],
   "source": [
    "# print(df.drop(df[df.ID.str.contains(r'[^0-9a-zA-Z]') |\n",
    "#                  df.Name.str.contains(r'[^0-9a-zA-Z]') |\n",
    "#                  df.Age.str.contains(r'[^0-9a-zA-Z]') |\n",
    "#                  df.Country.str.contains(r'[^0-9a-zA-Z]')].index))"
   ]
  },
  {
   "cell_type": "code",
   "execution_count": null,
   "id": "70b311f0",
   "metadata": {},
   "outputs": [],
   "source": [
    "# Removing * from DataFrame\n",
    "\n",
    "#cross_industry_df['Hourly Mean'].replace('\\*','',regex=True).astype(float)\n",
    "\n",
    "#cross_industry_df[\"Hourly Mean\"] = cross_industry_df[\"Hourly Mean\"].str.replace('\\\\*', \"\")"
   ]
  },
  {
   "cell_type": "code",
   "execution_count": null,
   "id": "4e69af54",
   "metadata": {
    "scrolled": true
   },
   "outputs": [],
   "source": [
    "# Trying to convert columns into int and float but unable due to error \n",
    "# ValueError: invalid literal for int() with base 10: '28.01'\n",
    "\n",
    "\n",
    "#cross_industry_df['Hourly Mean'].astype(str)\n"
   ]
  },
  {
   "cell_type": "code",
   "execution_count": null,
   "id": "b0693708",
   "metadata": {},
   "outputs": [],
   "source": [
    "# Removing special characters from DataFrame \n",
    "#df_converting=cross_industry_df.replace('\\*|#', np.nan, regex=True)\n"
   ]
  },
  {
   "cell_type": "code",
   "execution_count": null,
   "id": "005c0b30",
   "metadata": {},
   "outputs": [],
   "source": [
    "integer_columns = ['Total Employees', 'Annual Mean', 'Annual Median']\n",
    "cross_industry_df[integer_columns] = cross_industry_df[integer_columns].replace(',', '', regex=True)\n"
   ]
  },
  {
   "cell_type": "code",
   "execution_count": null,
   "id": "a31484bd",
   "metadata": {},
   "outputs": [],
   "source": [
    "# annual_median = ['Annual Median']\n",
    "# df_converting[annual_median] = df_converting[annual_median].replace('', np.nan, regex=True)\n"
   ]
  },
  {
   "cell_type": "code",
   "execution_count": null,
   "id": "ba5ff343",
   "metadata": {
    "scrolled": true
   },
   "outputs": [],
   "source": [
    "# df_converting['Hourly Mean'] = df_converting['Hourly Mean'].astype(float) works!\n",
    "# df_converting"
   ]
  },
  {
   "cell_type": "code",
   "execution_count": null,
   "id": "0ea1886f",
   "metadata": {},
   "outputs": [],
   "source": [
    "# Add df = \n",
    "cross_industry_df.astype({\n",
    "    'Hourly Mean':float,\n",
    "    'Hourly Median':float,\n",
    "    'Total Employees':float,\n",
    "    'Annual Mean':float,\n",
    "    'Annual Median':float,\n",
    "}).dtypes"
   ]
  },
  {
   "cell_type": "raw",
   "id": "16548598",
   "metadata": {},
   "source": [
    "cross_industry_df"
   ]
  },
  {
   "cell_type": "code",
   "execution_count": null,
   "id": "3cd744d5",
   "metadata": {
    "scrolled": true
   },
   "outputs": [],
   "source": [
    "# df_converting = cross_industry_df['Hourly Mean'].astype('string')\n",
    "#df_converting.dtypes"
   ]
  },
  {
   "cell_type": "code",
   "execution_count": null,
   "id": "835880b9",
   "metadata": {
    "scrolled": true
   },
   "outputs": [],
   "source": [
    "# This line of code will run if I remove the regex=True. \n",
    "# df_converting=cross_industry_df.replace('\\*', np.nan, regex=True)\n",
    "\n",
    "#df_converting[df_converting.str.contains('')==False]"
   ]
  },
  {
   "cell_type": "code",
   "execution_count": null,
   "id": "8907b32e",
   "metadata": {},
   "outputs": [],
   "source": [
    "# This line of code returns an error indicating there are still *'s in the data set \n",
    "# df_converting.astype('float')\n",
    "\n",
    "# ValueError: Must provide strings."
   ]
  },
  {
   "cell_type": "code",
   "execution_count": null,
   "id": "892f6466",
   "metadata": {},
   "outputs": [],
   "source": [
    "# found on stack overflow df[df['my_var']=='*']    https://stackoverflow.com/questions/45177209/error-unable-to-parse-string-at-position-6116-convert-object-type-to-int\n",
    "# remove all except decimal point https://stackoverflow.com/questions/68678098/python-regex-remove-all-and-special-characters-except-the-decimal-point\n",
    "# value error invalid literal for int() with base 10:   https://stackoverflow.com/questions/1841565/valueerror-invalid-literal-for-int-with-base-10\n"
   ]
  },
  {
   "cell_type": "code",
   "execution_count": null,
   "id": "5895911d",
   "metadata": {},
   "outputs": [],
   "source": [
    "# Exporting DataFrame to csv for tableau\n",
    "\n",
    "cross_industry_df.to_csv(\"Clean Data/clean_national_M2021_dl.csv\", index = False)"
   ]
  },
  {
   "cell_type": "code",
   "execution_count": null,
   "id": "5cbb88c4",
   "metadata": {},
   "outputs": [],
   "source": []
  }
 ],
 "metadata": {
  "kernelspec": {
   "display_name": "mlenv",
   "language": "python",
   "name": "mlenv"
  },
  "language_info": {
   "codemirror_mode": {
    "name": "ipython",
    "version": 3
   },
   "file_extension": ".py",
   "mimetype": "text/x-python",
   "name": "python",
   "nbconvert_exporter": "python",
   "pygments_lexer": "ipython3",
   "version": "3.7.13"
  }
 },
 "nbformat": 4,
 "nbformat_minor": 5
}
